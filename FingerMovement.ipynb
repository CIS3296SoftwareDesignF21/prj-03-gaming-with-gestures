{
 "cells": [
  {
   "cell_type": "code",
   "execution_count": 1,
   "metadata": {},
   "outputs": [],
   "source": [
    "import cv2\n",
    "import time\n",
    "import os\n",
    "import mediapipe as mp\n",
    "import HandTrackingModule as htm"
   ]
  },
  {
   "cell_type": "code",
   "execution_count": 2,
   "metadata": {},
   "outputs": [],
   "source": [
    "def gameMovement(cameraVal):\n",
    "  \n",
    "    movementDict = {\n",
    "                    'Forward': 11111, # all fingers\n",
    "                    'Stop'   :     0, # no finger\n",
    "                    'Left'   : 10000, # thumb\n",
    "                    'Right'  :     1, # pinky\n",
    "                    'Jump'   :  1100, # index and middle\n",
    "                    'Fire'   : 11000  # thumb and index\n",
    "                   }\n",
    "    \n",
    "    for movement, value in movementDict.items():\n",
    "        if (cameraVal == value):\n",
    "            return movement\n",
    "    "
   ]
  },
  {
   "cell_type": "code",
   "execution_count": 3,
   "metadata": {},
   "outputs": [],
   "source": [
    "wCam, hCam = 640, 480\n",
    "\n",
    "camera = cv2.VideoCapture(0)\n",
    "\n",
    "camera.set(3, wCam)\n",
    "camera.set(4, hCam)\n",
    "\n",
    "# For importing pictures\n",
    "#folderPath = \"FingerImages\"\n",
    "#myList = os.listdir(folderPath)\n",
    "\n",
    "#overlayList = []\n",
    "\n",
    "#for imPath in myList:\n",
    "    #image = cv2.imread(f'{folderPath}/{imPath}')\n",
    "    #overlayList.append(image)\n",
    "\n",
    "pTime = 0\n",
    "\n",
    "detector = htm.handDetector(detectionCon = 1)"
   ]
  },
  {
   "cell_type": "code",
   "execution_count": 4,
   "metadata": {
    "scrolled": true
   },
   "outputs": [
    {
     "name": "stderr",
     "output_type": "stream",
     "text": [
      "INFO: Created TensorFlow Lite XNNPACK delegate for CPU.\n"
     ]
    }
   ],
   "source": [
    "while True:\n",
    "    success, frame = camera.read()\n",
    "    \n",
    "    frame = cv2.flip(frame, 1)\n",
    "    \n",
    "    frame = detector.findHands(frame)\n",
    "    \n",
    "    lmList = detector.findPosition(frame, draw = False)\n",
    "       \n",
    "    fingerComb = detector.fingerCombination(lmList)\n",
    "\n",
    "    \n",
    "    cv2.putText(frame, str(gameMovement(fingerComb)), (0, 70), cv2.FONT_HERSHEY_PLAIN, 3, (0, 0, 0), 3)\n",
    "    \n",
    "    \n",
    "    #Code for images\n",
    "    #h, w, c = overlayList[0].shape\n",
    "    #img[0:h, 0:w] = overlayList[0]\n",
    "    \n",
    "    cv2.putText(frame, 'Press Q to quit', (800, 700), cv2.FONT_HERSHEY_PLAIN, 3, (0,0,0), 3)\n",
    "\n",
    "    \n",
    "    # Calculating the Frames per Seconds (FPS)    \n",
    "    cTime = time.time()\n",
    "    fps = 1 / (cTime - pTime)\n",
    "    pTime = cTime\n",
    "    \n",
    "    # Displaying the FPS (ERROR PRINTING HIGH NUMBERS)\n",
    "    cv2.putText(frame, f'FPS: {int(fps)}', (400, 70), cv2.FONT_HERSHEY_PLAIN, 3, (0,0,0), 3)\n",
    "    \n",
    "    cv2.imshow(\"Camera\", frame)\n",
    "    \n",
    "    key = cv2.waitKey(1)\n",
    "    if key in [27, ord('Q'), ord('q')]:\n",
    "        break\n",
    "        \n",
    "camera.release()\n",
    "cv2.destroyAllWindows()"
   ]
  },
  {
   "cell_type": "code",
   "execution_count": null,
   "metadata": {},
   "outputs": [],
   "source": []
  }
 ],
 "metadata": {
  "kernelspec": {
   "display_name": "Python 3 (ipykernel)",
   "language": "python",
   "name": "python3"
  },
  "language_info": {
   "codemirror_mode": {
    "name": "ipython",
    "version": 3
   },
   "file_extension": ".py",
   "mimetype": "text/x-python",
   "name": "python",
   "nbconvert_exporter": "python",
   "pygments_lexer": "ipython3",
   "version": "3.8.12"
  }
 },
 "nbformat": 4,
 "nbformat_minor": 4
}
