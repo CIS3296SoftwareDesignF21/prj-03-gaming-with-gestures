{
 "cells": [
  {
   "cell_type": "code",
   "execution_count": 9,
   "id": "922c8b70",
   "metadata": {},
   "outputs": [],
   "source": [
    "import cv2\n",
    "import time\n",
    "import os\n",
    "import mediapipe as mp\n",
    "import HandTrackingModule as htm"
   ]
  },
  {
   "cell_type": "code",
   "execution_count": 10,
   "id": "8b435335",
   "metadata": {},
   "outputs": [],
   "source": [
    "def rock(lmList):\n",
    "    # The points closest to the top of the window have lower values.\n",
    "    if len(lmList) != 0:\n",
    "        index = lmList[8][2] < lmList[6][2]\n",
    "        middle = lmList[12][2] > lmList[10][2]\n",
    "        ring = lmList[16][2] > lmList[14][2]\n",
    "        pinky = lmList[20][2] < lmList[18][2]\n",
    "        thumb = lmList[4][1] > lmList[3][1]\n",
    "        \n",
    "        if index and middle and ring and pinky and thumb:\n",
    "            return 1\n",
    "        else:\n",
    "            return 0"
   ]
  },
  {
   "cell_type": "code",
   "execution_count": 11,
   "id": "065962ed",
   "metadata": {},
   "outputs": [],
   "source": [
    "def knarly(lmList):\n",
    "    # The points closest to the top of the window have lower values.\n",
    "    if len(lmList) != 0:\n",
    "        index = lmList[8][2] > lmList[6][2]\n",
    "        middle = lmList[12][2] > lmList[10][2]\n",
    "        ring = lmList[16][2] > lmList[14][2]\n",
    "        pinky = lmList[20][2] < lmList[18][2]\n",
    "        thumb = lmList[4][1] < lmList[3][1]\n",
    "        \n",
    "        if index and middle and ring and pinky and thumb:\n",
    "            return 1\n",
    "        else:\n",
    "            return 0"
   ]
  },
  {
   "cell_type": "code",
   "execution_count": 12,
   "id": "39c9e853",
   "metadata": {},
   "outputs": [],
   "source": [
    "def peace(lmList):\n",
    "    # The points closest to the top of the window have lower values.\n",
    "    if len(lmList) != 0:\n",
    "        index = lmList[8][2] < lmList[6][2]\n",
    "        middle = lmList[12][2] < lmList[10][2]\n",
    "        ring = lmList[16][2] > lmList[14][2]\n",
    "        pinky = lmList[20][2] > lmList[18][2]\n",
    "        thumb = lmList[4][1] > lmList[3][1]\n",
    "        \n",
    "        if index and middle and ring and pinky and thumb:\n",
    "            return 1\n",
    "        else:\n",
    "            return 0"
   ]
  },
  {
   "cell_type": "code",
   "execution_count": 13,
   "id": "69699455",
   "metadata": {},
   "outputs": [],
   "source": [
    "def fist(lmList):\n",
    "    # The points closest to the top of the window have lower values.\n",
    "    if len(lmList) != 0:\n",
    "        index = lmList[8][2] > lmList[6][2]\n",
    "        middle = lmList[12][2] > lmList[10][2]\n",
    "        ring = lmList[16][2] > lmList[14][2]\n",
    "        pinky = lmList[20][2] > lmList[18][2]\n",
    "        thumb = lmList[4][1] > lmList[3][1]\n",
    "        \n",
    "        if index and middle and ring and pinky and thumb:\n",
    "            return 1\n",
    "        else:\n",
    "            return 0"
   ]
  },
  {
   "cell_type": "code",
   "execution_count": 14,
   "id": "c2a32cc9",
   "metadata": {},
   "outputs": [],
   "source": [
    "def loser(lmList):\n",
    "    # The points closest to the top of the window have lower values.\n",
    "    if len(lmList) != 0:\n",
    "        index = lmList[8][2] < lmList[6][2]\n",
    "        middle = lmList[12][2] > lmList[10][2]\n",
    "        ring = lmList[16][2] > lmList[14][2]\n",
    "        pinky = lmList[20][2] > lmList[18][2]\n",
    "        thumb = lmList[4][1] < lmList[3][1]\n",
    "        \n",
    "        if index and middle and ring and pinky and thumb:\n",
    "            return 1\n",
    "        else:\n",
    "            return 0"
   ]
  },
  {
   "cell_type": "code",
   "execution_count": 15,
   "id": "6cdfbca0",
   "metadata": {},
   "outputs": [],
   "source": [
    "wCam, hCam = 640, 480\n",
    "\n",
    "camera = cv2.VideoCapture(0)\n",
    "\n",
    "camera.set(3, wCam)\n",
    "camera.set(4, hCam)\n",
    "\n",
    "\n",
    "pTime = 0\n",
    "\n",
    "detector = htm.handDetector(detectionCon = 1)"
   ]
  },
  {
   "cell_type": "code",
   "execution_count": 16,
   "id": "31a2851e",
   "metadata": {},
   "outputs": [
    {
     "ename": "NameError",
     "evalue": "name 'Rock' is not defined",
     "output_type": "error",
     "traceback": [
      "\u001b[1;31m---------------------------------------------------------------------------\u001b[0m",
      "\u001b[1;31mNameError\u001b[0m                                 Traceback (most recent call last)",
      "\u001b[1;32m<ipython-input-16-24c92086aa43>\u001b[0m in \u001b[0;36m<module>\u001b[1;34m\u001b[0m\n\u001b[0;32m      8\u001b[0m     \u001b[0mlmList\u001b[0m \u001b[1;33m=\u001b[0m \u001b[0mdetector\u001b[0m\u001b[1;33m.\u001b[0m\u001b[0mfindPosition\u001b[0m\u001b[1;33m(\u001b[0m\u001b[0mframe\u001b[0m\u001b[1;33m,\u001b[0m \u001b[0mdraw\u001b[0m \u001b[1;33m=\u001b[0m \u001b[1;32mFalse\u001b[0m\u001b[1;33m)\u001b[0m\u001b[1;33m\u001b[0m\u001b[1;33m\u001b[0m\u001b[0m\n\u001b[0;32m      9\u001b[0m \u001b[1;33m\u001b[0m\u001b[0m\n\u001b[1;32m---> 10\u001b[1;33m     \u001b[1;32mif\u001b[0m \u001b[0mRock\u001b[0m\u001b[1;33m(\u001b[0m\u001b[0mlmList\u001b[0m\u001b[1;33m)\u001b[0m\u001b[1;33m:\u001b[0m\u001b[1;33m\u001b[0m\u001b[1;33m\u001b[0m\u001b[0m\n\u001b[0m\u001b[0;32m     11\u001b[0m         \u001b[0mcv2\u001b[0m\u001b[1;33m.\u001b[0m\u001b[0mputText\u001b[0m\u001b[1;33m(\u001b[0m\u001b[0mframe\u001b[0m\u001b[1;33m,\u001b[0m \u001b[1;34mf'Rock'\u001b[0m\u001b[1;33m,\u001b[0m \u001b[1;33m(\u001b[0m\u001b[1;36m0\u001b[0m\u001b[1;33m,\u001b[0m \u001b[1;36m70\u001b[0m\u001b[1;33m)\u001b[0m\u001b[1;33m,\u001b[0m \u001b[0mcv2\u001b[0m\u001b[1;33m.\u001b[0m\u001b[0mFONT_HERSHEY_PLAIN\u001b[0m\u001b[1;33m,\u001b[0m \u001b[1;36m3\u001b[0m\u001b[1;33m,\u001b[0m \u001b[1;33m(\u001b[0m\u001b[1;36m0\u001b[0m\u001b[1;33m,\u001b[0m \u001b[1;36m0\u001b[0m\u001b[1;33m,\u001b[0m \u001b[1;36m0\u001b[0m\u001b[1;33m)\u001b[0m\u001b[1;33m,\u001b[0m \u001b[1;36m3\u001b[0m\u001b[1;33m)\u001b[0m\u001b[1;33m\u001b[0m\u001b[1;33m\u001b[0m\u001b[0m\n\u001b[0;32m     12\u001b[0m     \u001b[1;32melif\u001b[0m \u001b[0mKnarly\u001b[0m\u001b[1;33m(\u001b[0m\u001b[0mlmList\u001b[0m\u001b[1;33m)\u001b[0m\u001b[1;33m:\u001b[0m\u001b[1;33m\u001b[0m\u001b[1;33m\u001b[0m\u001b[0m\n",
      "\u001b[1;31mNameError\u001b[0m: name 'Rock' is not defined"
     ]
    }
   ],
   "source": [
    "while True:\n",
    "    success, frame = camera.read()\n",
    "    \n",
    "    frame = cv2.flip(frame, 1)\n",
    "    \n",
    "    frame = detector.findHands(frame)\n",
    "    \n",
    "    lmList = detector.findPosition(frame, draw = False)\n",
    "    \n",
    "    if rock(lmList):\n",
    "        cv2.putText(frame, f'Rock', (0, 70), cv2.FONT_HERSHEY_PLAIN, 3, (0, 0, 0), 3)\n",
    "    elif knarly(lmList):\n",
    "        cv2.putText(frame, f'Knarly', (0, 70), cv2.FONT_HERSHEY_PLAIN, 3, (0, 0, 0), 3)\n",
    "    elif peace(lmList):\n",
    "        cv2.putText(frame, f'Peace', (0, 70), cv2.FONT_HERSHEY_PLAIN, 3, (0, 0, 0), 3)\n",
    "    elif fist(lmList):\n",
    "        cv2.putText(frame, f'Fist', (0, 70), cv2.FONT_HERSHEY_PLAIN, 3, (0, 0, 0), 3)\n",
    "    elif loser(lmList):\n",
    "        cv2.putText(frame, f'Loser', (0, 70), cv2.FONT_HERSHEY_PLAIN, 3, (0, 0, 0), 3)\n",
    "   \n",
    "    \n",
    "    #Code for images\n",
    "    #h, w, c = overlayList[0].shape\n",
    "    #img[0:h, 0:w] = overlayList[0]\n",
    "    \n",
    "    \n",
    "    # Calculating the Frames per Seconds (FPS)\n",
    "    cTime = time.time()\n",
    "    fps = 1 / (cTime - pTime)\n",
    "    pTime = cTime\n",
    "    \n",
    "    # Displaying the FPS (ERROR PRINTING HIGH NUMBERS)\n",
    "    cv2.putText(frame, f'FPS: {int(fps)}', (400, 70), cv2.FONT_HERSHEY_PLAIN, 3, (0,0,0), 3)\n",
    "    cv2.imshow(\"Camera\", frame)\n",
    "    \n",
    "    key = cv2.waitKey(1)\n",
    "    if key in [27, ord('Q'), ord('q')]:\n",
    "        break\n",
    "        \n",
    "camera.release()\n",
    "cv2.destroyAllWindows()"
   ]
  },
  {
   "cell_type": "code",
   "execution_count": null,
   "id": "3063604a",
   "metadata": {},
   "outputs": [],
   "source": []
  }
 ],
 "metadata": {
  "kernelspec": {
   "display_name": "Python 3",
   "language": "python",
   "name": "python3"
  },
  "language_info": {
   "codemirror_mode": {
    "name": "ipython",
    "version": 3
   },
   "file_extension": ".py",
   "mimetype": "text/x-python",
   "name": "python",
   "nbconvert_exporter": "python",
   "pygments_lexer": "ipython3",
   "version": "3.8.8"
  }
 },
 "nbformat": 4,
 "nbformat_minor": 5
}
