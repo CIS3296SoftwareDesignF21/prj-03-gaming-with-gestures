{
 "cells": [
  {
   "cell_type": "code",
   "execution_count": 20,
   "id": "75c1f2fd",
   "metadata": {},
   "outputs": [],
   "source": [
    "import numpy as np\n",
    "from PIL import ImageGrab\n",
    "import cv2\n",
    "import time\n",
    "import DirectKeys"
   ]
  },
  {
   "cell_type": "code",
   "execution_count": 5,
   "id": "a35bd5d6",
   "metadata": {},
   "outputs": [
    {
     "name": "stdout",
     "output_type": "stream",
     "text": [
      "down\n",
      "up\n"
     ]
    }
   ],
   "source": [
    "print('down')\n",
    "PressKey(DOWN)\n",
    "ReleaseKey(DOWN)\n",
    "time.sleep(3)\n",
    "print('up')\n",
    "PressKey(UP)\n",
    "ReleaseKey(UP)"
   ]
  },
  {
   "cell_type": "code",
   "execution_count": 21,
   "id": "37761b58",
   "metadata": {},
   "outputs": [],
   "source": [
    "def process_image(original_image):\n",
    "    processed_image = cv2.cvtColor(original_image, cv2.COLOR_BGR2GRAY)\n",
    "    processed_image = cv2.Canny(processed_image, threshold1 = 200, threshold2 = 300)\n",
    "    return processed_image"
   ]
  },
  {
   "cell_type": "code",
   "execution_count": 22,
   "id": "ff1ac600",
   "metadata": {},
   "outputs": [
    {
     "name": "stdout",
     "output_type": "stream",
     "text": [
      "Loop took 0.04201507568359375 seconds\n",
      "Loop took 10.073758125305176 seconds\n",
      "Loop took 10.066949844360352 seconds\n"
     ]
    }
   ],
   "source": [
    "last_time = time.time()\n",
    "while (True):\n",
    "    screen = np.array(ImageGrab.grab(bbox=(0, 40, 800, 640)))\n",
    "    new_screen = process_image(screen)\n",
    "    print('Loop took {} seconds'.format(time.time()-last_time))\n",
    "    \n",
    "    cv2.imshow('window', new_screen)\n",
    "    ##cv2.imshow('window', cv2.cvtColor(screen, cv2.COLOR_BGR2RGB))\n",
    "    last_time = time.time()\n",
    "    \n",
    "    if cv2.waitKey(25) & 0xFF == ord('w'):\n",
    "        cv2.destroyAllWindows()\n",
    "        break\n",
    "    \n",
    "    time.sleep(10)\n",
    "    PressKey(W)"
   ]
  },
  {
   "cell_type": "code",
   "execution_count": null,
   "id": "73b58097",
   "metadata": {},
   "outputs": [],
   "source": []
  }
 ],
 "metadata": {
  "kernelspec": {
   "display_name": "Python 3",
   "language": "python",
   "name": "python3"
  },
  "language_info": {
   "codemirror_mode": {
    "name": "ipython",
    "version": 3
   },
   "file_extension": ".py",
   "mimetype": "text/x-python",
   "name": "python",
   "nbconvert_exporter": "python",
   "pygments_lexer": "ipython3",
   "version": "3.8.8"
  }
 },
 "nbformat": 4,
 "nbformat_minor": 5
}
