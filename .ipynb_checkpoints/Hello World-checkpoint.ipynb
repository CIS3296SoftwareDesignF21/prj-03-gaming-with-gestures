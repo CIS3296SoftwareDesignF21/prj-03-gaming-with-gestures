{
 "cells": [
  {
   "cell_type": "code",
   "execution_count": 1,
   "metadata": {},
   "outputs": [],
   "source": [
    "import cv2\n",
    "import mediapipe as mp\n",
    "import numpy as np\n",
    "import time\n",
    "import handTrackingModule as htm\n",
    "import os"
   ]
  },
  {
   "cell_type": "code",
   "execution_count": 14,
   "metadata": {},
   "outputs": [],
   "source": [
    "# Initialize webcam\n",
    "cam = cv2.VideoCapture(0)\n",
    "    \n",
    "# Initialize time variables: Previous Time = pTime, Current Time = cTime\n",
    "pTime = 0\n",
    "cTime = 0\n",
    "    \n",
    "# Creating a handDetector object\n",
    "detector = handDetector()\n",
    "    \n",
    "while True:\n",
    "    # Read frames from webcam\n",
    "    success, frame = cam.read()\n",
    "        \n",
    "    # Send frames to detector object\n",
    "    frame = detector.findHands(frame)\n",
    "            \n",
    "    # Creating list of hand landmark data\n",
    "    lmList = detector.findPosition(frame)\n",
    "            \n",
    "    # Checking if the list is empty or not\n",
    "    if len(lmList) != 0:\n",
    "            print(lmList[4])\n",
    "        \n",
    "    # Track Frames per Seconds (FPS)\n",
    "    cTime = time.time()\n",
    "    FPS = 1 / (cTime - pTime)\n",
    "    pTime = cTime\n",
    "        \n",
    "    # Displays the FPS value onto the frame\n",
    "    cv2.putText(frame, str(int(FPS)), (10, 70), cv2.FONT_HERSHEY_PLAIN, 3, (255, 0, 255), 3)\n",
    "        \n",
    "    # Display frames in a new window called Camera\n",
    "    cv2.imshow('Camera', frame)\n",
    "        \n",
    "    # Exits or breaks when user presses the Q key, q key, or the Esc key\n",
    "    key = cv2.waitKey(1)\n",
    "    if key in [27, ord('Q'), ord('q')]:\n",
    "        break\n",
    "camera.release()\n",
    "cv2.destroyAllWindows()\n",
    "#pushed using GitHub Desktop"
   ]
  },
  {
   "cell_type": "code",
   "execution_count": null,
   "metadata": {},
   "outputs": [],
   "source": []
  },
  {
   "cell_type": "code",
   "execution_count": null,
   "metadata": {},
   "outputs": [],
   "source": []
  }
 ],
 "metadata": {
  "kernelspec": {
   "display_name": "Python 3",
   "language": "python",
   "name": "python3"
  },
  "language_info": {
   "codemirror_mode": {
    "name": "ipython",
    "version": 3
   },
   "file_extension": ".py",
   "mimetype": "text/x-python",
   "name": "python",
   "nbconvert_exporter": "python",
   "pygments_lexer": "ipython3",
   "version": "3.6.12"
  }
 },
 "nbformat": 4,
 "nbformat_minor": 4
}
