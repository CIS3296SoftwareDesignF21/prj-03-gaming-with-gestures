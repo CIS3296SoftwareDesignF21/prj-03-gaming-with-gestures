{
 "cells": [
  {
   "cell_type": "code",
   "execution_count": 1,
   "metadata": {},
   "outputs": [],
   "source": [
    "import cv2\n",
    "import RecognizeModuleStarter as rms"
   ]
  },
  {
   "cell_type": "code",
   "execution_count": 2,
   "metadata": {},
   "outputs": [],
   "source": [
    "def northHand(lmList):\n",
    "    # The points closest to the left of the window have lower values.\n",
    "    if len(lmList) != 0:\n",
    "        # distances between 1st index and middle knuckles\n",
    "        horizontalDistance = (lmList[9][1] - lmList[5][1])\n",
    "        # vertical direction is unimportant\n",
    "        verticalDistance = abs(lmList[9][2] - lmList[5][2])\n",
    "\n",
    "        north = (horizontalDistance > verticalDistance)\n",
    "\n",
    "        if north:\n",
    "            return 1\n",
    "        else:\n",
    "            return 0"
   ]
  },
  {
   "cell_type": "code",
   "execution_count": 3,
   "metadata": {},
   "outputs": [],
   "source": [
    "def eastHand(lmList):\n",
    "    # The points closest to the top of the window have lower values.\n",
    "    if len(lmList) != 0:\n",
    "        # distances between 1st index and middle knuckles\n",
    "        verticalDistance = (lmList[9][2] - lmList[5][2])\n",
    "        # horizontal direction is unimportant\n",
    "        horizontalDistance = abs(lmList[9][1] - lmList[5][1])\n",
    " \n",
    "        east = (verticalDistance > horizontalDistance)\n",
    "        \n",
    "        if east:\n",
    "            return 1\n",
    "        else:\n",
    "            return 0"
   ]
  },
  {
   "cell_type": "code",
   "execution_count": 4,
   "metadata": {},
   "outputs": [],
   "source": [
    "def westHand(lmList):\n",
    "    # The points closest to the top of the window have lower values.\n",
    "    if len(lmList) != 0:\n",
    "        # distances between 1st index and middle knuckles\n",
    "        verticalDistance = (lmList[5][2] - lmList[9][2])\n",
    "        # horizontal direction is unimportant\n",
    "        horizontalDistance = abs(lmList[9][1] - lmList[5][1])\n",
    " \n",
    "        west = (verticalDistance > horizontalDistance)\n",
    "\n",
    "        if west:\n",
    "            return 1\n",
    "        else:\n",
    "            return 0"
   ]
  },
  {
   "cell_type": "code",
   "execution_count": 5,
   "metadata": {},
   "outputs": [],
   "source": [
    "def southHand(lmList):\n",
    "    # The points closest to the left of the window have lower values.\n",
    "    if len(lmList) != 0:\n",
    "        # distances between 1st index and middle knuckles\n",
    "        horizontalDistance = (lmList[5][1] - lmList[9][1])\n",
    "        # vertical direction is unimportant\n",
    "        verticalDistance = abs(lmList[9][2] - lmList[5][2])\n",
    "\n",
    "        south = (horizontalDistance > verticalDistance)\n",
    "        \n",
    "        if south:\n",
    "            return 1\n",
    "        else:\n",
    "            return 0"
   ]
  },
  {
   "cell_type": "code",
   "execution_count": 6,
   "metadata": {},
   "outputs": [],
   "source": [
    "def startRecognizingHandDirection():\n",
    "    rms.start(recognizeHandDirection)"
   ]
  },
  {
   "cell_type": "code",
   "execution_count": 7,
   "metadata": {
    "scrolled": true
   },
   "outputs": [],
   "source": [
    "def recognizeHandDirection(lmList, frame):\n",
    "    if northHand(lmList):\n",
    "        cv2.putText(frame, f'Pointing north', (0, 70), cv2.FONT_HERSHEY_PLAIN, 3, (0, 0, 0), 3)\n",
    "        return True\n",
    "    elif eastHand(lmList):\n",
    "        cv2.putText(frame, f'Pointing east', (0, 70), cv2.FONT_HERSHEY_PLAIN, 3, (0, 0, 0), 3)\n",
    "        return True\n",
    "    elif westHand(lmList):\n",
    "        cv2.putText(frame, f'Pointing west', (0, 70), cv2.FONT_HERSHEY_PLAIN, 3, (0, 0, 0), 3)\n",
    "        return True\n",
    "    elif southHand(lmList):\n",
    "        cv2.putText(frame, f'Pointing south', (0, 70), cv2.FONT_HERSHEY_PLAIN, 3, (0, 0, 0), 3)\n",
    "        return True\n",
    "    return False"
   ]
  },
  {
   "cell_type": "code",
   "execution_count": 8,
   "metadata": {},
   "outputs": [],
   "source": [
    "if __name__ == \"__main__\":\n",
    "    startRecognizingHandDirection()"
   ]
  }
 ],
 "metadata": {
  "kernelspec": {
   "display_name": "Python 3",
   "language": "python",
   "name": "python3"
  },
  "language_info": {
   "codemirror_mode": {
    "name": "ipython",
    "version": 3
   },
   "file_extension": ".py",
   "mimetype": "text/x-python",
   "name": "python",
   "nbconvert_exporter": "python",
   "pygments_lexer": "ipython3",
   "version": "3.8.8"
  }
 },
 "nbformat": 4,
 "nbformat_minor": 4
}
