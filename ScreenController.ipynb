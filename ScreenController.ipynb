{
 "cells": [
  {
   "cell_type": "code",
   "execution_count": 1,
   "metadata": {},
   "outputs": [
    {
     "ename": "ModuleNotFoundError",
     "evalue": "No module named 'pyautogui'",
     "output_type": "error",
     "traceback": [
      "\u001b[1;31m---------------------------------------------------------------------------\u001b[0m",
      "\u001b[1;31mModuleNotFoundError\u001b[0m                       Traceback (most recent call last)",
      "\u001b[1;32m<ipython-input-1-55ab385ce6d0>\u001b[0m in \u001b[0;36m<module>\u001b[1;34m\u001b[0m\n\u001b[0;32m      1\u001b[0m \u001b[1;32mimport\u001b[0m \u001b[0mcv2\u001b[0m\u001b[1;33m\u001b[0m\u001b[1;33m\u001b[0m\u001b[0m\n\u001b[0;32m      2\u001b[0m \u001b[1;32mimport\u001b[0m \u001b[0mmediapipe\u001b[0m \u001b[1;32mas\u001b[0m \u001b[0mmp\u001b[0m\u001b[1;33m\u001b[0m\u001b[1;33m\u001b[0m\u001b[0m\n\u001b[1;32m----> 3\u001b[1;33m \u001b[1;32mimport\u001b[0m \u001b[0mpyautogui\u001b[0m \u001b[1;32mas\u001b[0m \u001b[0mpg\u001b[0m\u001b[1;33m\u001b[0m\u001b[1;33m\u001b[0m\u001b[0m\n\u001b[0m\u001b[0;32m      4\u001b[0m \u001b[1;32mimport\u001b[0m \u001b[0mHandTrackingModule\u001b[0m \u001b[1;32mas\u001b[0m \u001b[0mhtm\u001b[0m\u001b[1;33m\u001b[0m\u001b[1;33m\u001b[0m\u001b[0m\n\u001b[0;32m      5\u001b[0m \u001b[1;32mimport\u001b[0m \u001b[0mnumpy\u001b[0m \u001b[1;32mas\u001b[0m \u001b[0mnp\u001b[0m\u001b[1;33m\u001b[0m\u001b[1;33m\u001b[0m\u001b[0m\n",
      "\u001b[1;31mModuleNotFoundError\u001b[0m: No module named 'pyautogui'"
     ]
    }
   ],
   "source": [
    "import pyautogui as pg\n",
    "import RecognizeModuleStarter as rms\n",
    "from math import *\n",
    "\n",
    "pg.FAILSAFE = False"
   ]
  },
  {
   "cell_type": "code",
   "execution_count": null,
   "metadata": {},
   "outputs": [],
   "source": [
    "# Camera setup\n",
    "W_CAM, H_CAM = 1280, 720"
   ]
  },
  {
   "cell_type": "code",
   "execution_count": 2,
   "metadata": {},
   "outputs": [],
   "source": [
    "def trackingBox(frame, horizontal, vertical, draw = True):\n",
    "    # Probably should estimate values regarding the shape of the box and take in those values as arguments to this function\n",
    "    x1, x2 = horizontal\n",
    "    y1, y2 = vertical\n",
    "    new_frame = cv2.rectangle(frame, (x1, y1), (x2, y2), (255, 255, 255), 2)\n",
    "    return new_frame"
   ]
  },
  {
   "cell_type": "code",
   "execution_count": 3,
   "metadata": {},
   "outputs": [],
   "source": [
    "def scale(cur, screenRange, horizontal, vertical):\n",
    "    w, h = screenRange\n",
    "    hCur, vCur = cur\n",
    "    hMin, hMax = horizontal\n",
    "    vMin, vMax = vertical\n",
    "    hrange = hMax - hMin\n",
    "    vrange = vMax - vMin\n",
    "    x = (hCur - hMin) * w / hrange + 0\n",
    "    y = (vCur - vMin) * h / vrange + 0\n",
    "    \n",
    "    return (x, y)\n",
    "    \n",
    "    "
   ]
  },
  {
   "cell_type": "code",
   "execution_count": 4,
   "metadata": {},
   "outputs": [],
   "source": [
    "def pinkyFinger(lmList):\n",
    "    # The points closest to the top of the window have lower values.\n",
    "    if len(lmList) != 0:\n",
    "        index = lmList[8][2] > lmList[6][2]\n",
    "        middle = lmList[12][2] > lmList[10][2]\n",
    "        ring = lmList[16][2] > lmList[14][2]\n",
    "        pinky = lmList[20][2] < lmList[18][2]\n",
    "        thumb = lmList[4][1] > lmList[3][1]\n",
    "        \n",
    "        if index and middle and ring and pinky and thumb:\n",
    "            return 1\n",
    "        else:\n",
    "            return 0"
   ]
  },
  {
   "cell_type": "code",
   "execution_count": 5,
   "metadata": {},
   "outputs": [],
   "source": [
    "def valid(list):\n",
    "    if len(list) != 0:\n",
    "        return True\n",
    "    else:\n",
    "        return False"
   ]
  },
  {
   "cell_type": "code",
   "execution_count": 6,
   "metadata": {},
   "outputs": [],
   "source": [
    "def smoothing(x, y, prev_x, prev_y, smooth = 8):\n",
    "    curr_x = prev_x + (x - prev_x)/smooth\n",
    "    curr_y = prev_y + (y - prev_y)/smooth\n",
    "    #prev_x, prev_y = curr_x, curr_y\n",
    "    return (curr_x, curr_y)"
   ]
  },
  {
   "cell_type": "code",
   "execution_count": 7,
   "metadata": {},
   "outputs": [],
   "source": [
    "def lineTrack(frame, lmList, p1, p2, draw = True):\n",
    "    if valid(lmList):\n",
    "        startPoint = (lmList[p1][1], lmList[p1][2])\n",
    "        endPoint = (lmList[p2][1], lmList[p2][2])\n",
    "        \n",
    "        if draw:\n",
    "            frame = cv2.line(frame, startPoint, endPoint, (255, 255, 255), 9)\n",
    "    return (frame, startPoint, endPoint)"
   ]
  },
  {
   "cell_type": "code",
   "execution_count": 8,
   "metadata": {},
   "outputs": [],
   "source": [
    "def length(start, end):\n",
    "    x1, y1 = start\n",
    "    x2, y2 = end\n",
    "    x = (x2 - x1)**2\n",
    "    y = (y2 - y1)**2\n",
    "    return sqrt(x+y)"
   ]
  },
  {
   "cell_type": "code",
   "execution_count": 9,
   "metadata": {},
   "outputs": [],
   "source": [
    "def click(frame, lmList, draw = True):\n",
    "    p1, p2 = 4, 13\n",
    "    frame, start, end = lineTrack(frame, lmList, p1, p2, draw)\n",
    "    lineLength = length(start, end)\n",
    "    \n",
    "    if lineLength < 70:\n",
    "        return True\n",
    "    else:\n",
    "        return False\n",
    "        "
   ]
  },
  {
   "cell_type": "code",
   "execution_count": 10,
   "metadata": {},
   "outputs": [],
   "source": [
    "def screenShot(frame, lmList, draw = True):\n",
    "    p1, p2 = 8, 12\n",
    "    frame, start, end = lineTrack(frame, lmList, p1, p2, draw)\n",
    "    lineLength = length(start, end)\n",
    "    \n",
    "    ring = lmList[16][2] > lmList[14][2]\n",
    "    pinky = lmList[20][2] > lmList[18][2]\n",
    "    \n",
    "    if lineLength < 50 and ring and pinky:\n",
    "        return True\n",
    "    else:\n",
    "        return False"
   ]
  },
  {
   "cell_type": "code",
   "execution_count": 11,
   "metadata": {},
   "outputs": [],
   "source": [
    "def vKey(frame, lmList, draw = True):\n",
    "    p1, p2 = 8, 4\n",
    "    frame, start, end = lineTrack(frame, lmList, p1, p2, draw)\n",
    "    lineLength = length(start, end)\n",
    "    \n",
    "    if lineLength < 60:\n",
    "        return True\n",
    "    else:\n",
    "        return False"
   ]
  },
  {
   "cell_type": "code",
   "execution_count": 12,
   "metadata": {},
   "outputs": [
    {
     "name": "stdout",
     "output_type": "stream",
     "text": [
      "Screen Width: 1920\n",
      "Screen Height: 1080\n"
     ]
    }
   ],
   "source": [
    "width, height = pg.size()\n",
    "print(f'Screen Width: {width}')\n",
    "print(f'Screen Height: {height}')"
   ]
  },
  {
   "cell_type": "code",
   "execution_count": 15,
   "metadata": {},
   "outputs": [],
   "source": [
    "# Camera setup\n",
    "camera = cv2.VideoCapture(0)\n",
    "camera.set(3, wCam)\n",
    "camera.set(4, hCam)\n",
    "\n",
    "pTime = 0\n",
    "\n",
    "prev_x, prev_y = 0, 0\n",
    "\n",
    "# Hand object setup\n",
    "detector = htm.handDetector(detectionCon = 0.75)"
   ]
  },
  {
   "cell_type": "code",
   "execution_count": 16,
   "metadata": {},
   "outputs": [],
   "source": [
    "while True:\n",
    "    # Reading in every frame\n",
    "    success, frame = camera.read()\n",
    "    \n",
    "    # Make the camera mirror\n",
    "    frame = cv2.flip(frame, 1)\n",
    "    \n",
    "    frame = detector.findHands(frame)\n",
    "    lmList = detector.findPosition(frame, draw = False)\n",
    "    \n",
    "    #frame = trackingBox(frame)\n",
    "    \n",
    "    horizontal = (300, 940)\n",
    "    vertical = (50, 330)\n",
    "    \n",
    "    frame = trackingBox(frame, horizontal, vertical)\n",
    "    cv2.putText(frame, f'Tracking', (40, 140), cv2.FONT_HERSHEY_PLAIN, 3, (255, 255, 255), 3)\n",
    "    cv2.putText(frame, f'Box ->', (60, 190), cv2.FONT_HERSHEY_PLAIN, 3, (255, 255, 255), 3)\n",
    "    \n",
    "    cTime = time.time()\n",
    "    fps = 1 / (cTime - pTime)\n",
    "    pTime = cTime\n",
    "    \n",
    "    cv2.putText(frame, f'FPS: {int(fps)}', (1000, 140), cv2.FONT_HERSHEY_PLAIN, 3, (255, 255, 255), 3)\n",
    "    \n",
    "    if len(lmList) != 0:\n",
    "        \n",
    "        # Cursor to index finger tracking\n",
    "        cur = (lmList[8][1], lmList[8][2])\n",
    "        cur1, cur2 = cur\n",
    "        \n",
    "        x, y = scale(cur, pg.size(), horizontal, vertical)\n",
    "        curr_x, curr_y = smoothing(x, y, prev_x, prev_y)\n",
    "        pg.moveTo(curr_x, curr_y)\n",
    "        prev_x, prev_y = curr_x, curr_y\n",
    "        \n",
    "        #################################################\n",
    "        # THUMB CLICKING (A clicked is performed when the thumb is closed)\n",
    "        # This clicking seems to not work with certain things so please use direct keys.\n",
    "        if pinkyFinger(lmList):\n",
    "            break\n",
    "        elif click(frame, lmList, draw = False):\n",
    "            pg.click()\n",
    "        elif vKey(frame, lmList, draw = False):\n",
    "            pg.hotkey('ctrl', 'win', 'o')\n",
    "        elif screenShot(frame, lmList, draw = False):\n",
    "            pg.hotkey('win', 'printscreen')\n",
    "        \n",
    "       \n",
    "        #if bothFingers(lmList) and lineLength < 65:\n",
    "            #pg.mouseDown(button = 'left')\n",
    "            #pg.click()\n",
    "        #if allVKey(lmList):\n",
    "            #pg.hotkey('ctrl','win','o')\n",
    "            \n",
    "        #if thumbClick(lmList):\n",
    "            #cv2.putText(frame, f'click', (0, 150), cv2.FONT_HERSHEY_PLAIN, 3, (0, 0, 0), 3)\n",
    "            #pg.click()\n",
    "        #if lineLength < 70:\n",
    "            #pg.click()\n",
    "        \n",
    "        #if pinkyFinger(lmList):\n",
    "            #break\n",
    "    cv2.imshow(\"Screen Controller\", frame)\n",
    "        #if pinkyFinger(lmList):\n",
    "            #break\n",
    "    key = cv2.waitKey(1)\n",
    "    if key in [27, ord('Q'), ord('q')]:\n",
    "        break\n",
    "\n",
    "# Close camera and window\n",
    "camera.release()\n",
    "cv2.destroyAllWindows()"
   ]
  },
  {
   "cell_type": "code",
   "execution_count": null,
   "metadata": {},
   "outputs": [],
   "source": [
    "class ControlScreenCommand:\n",
    "    def __init__(self):\n",
    "        prev_x, prev_y = 0, 0    # previous coords of the mouse\n",
    "\n",
    "    def call(self, lmList, frame):\n",
    "        horizontal = (300, 940)\n",
    "        vertical = (50, 330)\n",
    "        \n",
    "        frame = trackingBox(frame, horizontal, vertical)\n",
    "        cv2.putText(frame, f'Tracking', (40, 140), cv2.FONT_HERSHEY_PLAIN, 3, (255, 255, 255), 3)\n",
    "        cv2.putText(frame, f'Box ->', (60, 190), cv2.FONT_HERSHEY_PLAIN, 3, (255, 255, 255), 3)\n",
    "        \n",
    "        if len(lmList) != 0:\n",
    "            \n",
    "            # Cursor to index finger tracking\n",
    "            cur = (lmList[8][1], lmList[8][2])\n",
    "            cur1, cur2 = cur\n",
    "            \n",
    "            x, y = scale(cur, pg.size(), horizontal, vertical)\n",
    "            curr_x, curr_y = smoothing(x, y, self.prev_x, self.prev_y)\n",
    "            pg.moveTo(curr_x, curr_y)\n",
    "            self.prev_x, self.prev_y = curr_x, curr_y\n",
    "            \n",
    "            #################################################\n",
    "            # THUMB CLICKING (A clicked is performed when the thumb is closed)\n",
    "            # This clicking seems to not work with certain things so please use direct keys.\n",
    "            if pinkyFinger(lmList):\n",
    "                break\n",
    "            elif click(frame, lmList, draw = False):\n",
    "                pg.click()\n",
    "            elif vKey(frame, lmList, draw = False):\n",
    "                pg.hotkey('ctrl', 'win', 'o')\n",
    "            elif screenShot(frame, lmList, draw = False):\n",
    "                pg.hotkey('win', 'printscreen')\n",
    "            \n",
    "           \n",
    "            #if bothFingers(lmList) and lineLength < 65:\n",
    "                #pg.mouseDown(button = 'left')\n",
    "                #pg.click()\n",
    "            #if allVKey(lmList):\n",
    "                #pg.hotkey('ctrl','win','o')\n",
    "                \n",
    "            #if thumbClick(lmList):\n",
    "                #cv2.putText(frame, f'click', (0, 150), cv2.FONT_HERSHEY_PLAIN, 3, (0, 0, 0), 3)\n",
    "                #pg.click()\n",
    "            #if lineLength < 70:\n",
    "                #pg.click()\n",
    "            \n",
    "            #if pinkyFinger(lmList):\n",
    "                #break\n",
    "        cv2.imshow(\"Screen Controller\", frame)\n",
    "            #if pinkyFinger(lmList):\n",
    "                #break"
   ]
  }
 ],
 "metadata": {
  "kernelspec": {
   "display_name": "Python 3",
   "language": "python",
   "name": "python3"
  },
  "language_info": {
   "codemirror_mode": {
    "name": "ipython",
    "version": 3
   },
   "file_extension": ".py",
   "mimetype": "text/x-python",
   "name": "python",
   "nbconvert_exporter": "python",
   "pygments_lexer": "ipython3",
   "version": "3.8.8"
  }
 },
 "nbformat": 4,
 "nbformat_minor": 4
}
