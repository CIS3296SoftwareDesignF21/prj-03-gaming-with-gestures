{
 "cells": [
  {
   "cell_type": "code",
   "execution_count": 1,
   "id": "3c2dde72",
   "metadata": {},
   "outputs": [],
   "source": [
    "import RecognizeModuleStarter as rms\n",
    "sgc = __import__(\"Static Gestures Class\")"
   ]
  },
  {
   "cell_type": "code",
   "execution_count": 2,
   "id": "530d1e42",
   "metadata": {},
   "outputs": [],
   "source": [
    "def main():\n",
    "    r'''\n",
    "     Integrates and runs all of the modules.\n",
    "     '''\n",
    "    recognitions = rms.RecognitionList(rms.aggregateUntilFalse)\n",
    "    recognitions.add(sgc.recognizeStaticGestures)\n",
    "    recognitions.start()"
   ]
  },
  {
   "cell_type": "code",
   "execution_count": 3,
   "id": "a4025bb2",
   "metadata": {},
   "outputs": [],
   "source": [
    "if __name__ == \"__main__\":\n",
    "    main()"
   ]
  },
  {
   "cell_type": "code",
   "execution_count": null,
   "id": "6495bab3",
   "metadata": {},
   "outputs": [],
   "source": []
  }
 ],
 "metadata": {
  "kernelspec": {
   "display_name": "Python 3",
   "language": "python",
   "name": "python3"
  },
  "language_info": {
   "codemirror_mode": {
    "name": "ipython",
    "version": 3
   },
   "file_extension": ".py",
   "mimetype": "text/x-python",
   "name": "python",
   "nbconvert_exporter": "python",
   "pygments_lexer": "ipython3",
   "version": "3.8.8"
  }
 },
 "nbformat": 4,
 "nbformat_minor": 5
}
