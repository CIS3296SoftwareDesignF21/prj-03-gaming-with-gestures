{
 "cells": [
  {
   "cell_type": "code",
   "execution_count": 1,
   "metadata": {},
   "outputs": [],
   "source": [
    "import cv2\n",
    "import RecognizeModuleStarter as rms"
   ]
  },
  {
   "cell_type": "code",
   "execution_count": 2,
   "metadata": {},
   "outputs": [],
   "source": [
    "def indexFinger(lmList):\n",
    "    # The points closest to the top of the window have lower values.\n",
    "    if len(lmList) != 0:\n",
    "        index = lmList[8][2] < lmList[6][2]\n",
    "        middle = lmList[12][2] > lmList[10][2]\n",
    "        ring = lmList[16][2] > lmList[14][2]\n",
    "        pinky = lmList[20][2] > lmList[18][2]\n",
    "        thumb = lmList[4][1] > lmList[3][1]\n",
    "        \n",
    "        if index and middle and ring and pinky and thumb:\n",
    "            return 1\n",
    "        else:\n",
    "            return 0"
   ]
  },
  {
   "cell_type": "code",
   "execution_count": 3,
   "metadata": {},
   "outputs": [],
   "source": [
    "def middleFinger(lmList):\n",
    "    # The points closest to the top of the window have lower values.\n",
    "    if len(lmList) != 0:\n",
    "        index = lmList[8][2] > lmList[6][2]\n",
    "        middle = lmList[12][2] < lmList[10][2]\n",
    "        ring = lmList[16][2] > lmList[14][2]\n",
    "        pinky = lmList[20][2] > lmList[18][2]\n",
    "        thumb = lmList[4][1] > lmList[3][1]\n",
    "        \n",
    "        if index and middle and ring and pinky and thumb:\n",
    "            return 1\n",
    "        else:\n",
    "            return 0"
   ]
  },
  {
   "cell_type": "code",
   "execution_count": 4,
   "metadata": {},
   "outputs": [],
   "source": [
    "def ringFinger(lmList):\n",
    "    # The points closest to the top of the window have lower values.\n",
    "    if len(lmList) != 0:\n",
    "        index = lmList[8][2] > lmList[6][2]\n",
    "        middle = lmList[12][2] > lmList[10][2]\n",
    "        ring = lmList[16][2] < lmList[14][2]\n",
    "        pinky = lmList[20][2] > lmList[18][2]\n",
    "        thumb = lmList[4][1] > lmList[3][1]\n",
    "        \n",
    "        if index and middle and ring and pinky and thumb:\n",
    "            return 1\n",
    "        else:\n",
    "            return 0"
   ]
  },
  {
   "cell_type": "code",
   "execution_count": 5,
   "metadata": {},
   "outputs": [],
   "source": [
    "def pinkyFinger(lmList):\n",
    "    # The points closest to the top of the window have lower values.\n",
    "    if len(lmList) != 0:\n",
    "        index = lmList[8][2] > lmList[6][2]\n",
    "        middle = lmList[12][2] > lmList[10][2]\n",
    "        ring = lmList[16][2] > lmList[14][2]\n",
    "        pinky = lmList[20][2] < lmList[18][2]\n",
    "        thumb = lmList[4][1] > lmList[3][1]\n",
    "        \n",
    "        if index and middle and ring and pinky and thumb:\n",
    "            return 1\n",
    "        else:\n",
    "            return 0"
   ]
  },
  {
   "cell_type": "code",
   "execution_count": 6,
   "metadata": {},
   "outputs": [],
   "source": [
    "def thumbFinger(lmList):\n",
    "    # The points closest to the top of the window have lower values.\n",
    "    if len(lmList) != 0:\n",
    "        index = lmList[8][2] > lmList[6][2]\n",
    "        middle = lmList[12][2] > lmList[10][2]\n",
    "        ring = lmList[16][2] > lmList[14][2]\n",
    "        pinky = lmList[20][2] > lmList[18][2]\n",
    "        thumb = lmList[4][1] < lmList[3][1]\n",
    "        \n",
    "        if index and middle and ring and pinky and thumb:\n",
    "            return 1\n",
    "        else:\n",
    "            return 0"
   ]
  },
  {
   "cell_type": "code",
   "execution_count": 7,
   "metadata": {},
   "outputs": [],
   "source": [
    "def allFingers(lmList):\n",
    "    # The points closest to the top of the window have lower values.\n",
    "    if len(lmList) != 0:\n",
    "        index = lmList[8][2] < lmList[6][2]\n",
    "        middle = lmList[12][2] < lmList[10][2]\n",
    "        ring = lmList[16][2] < lmList[14][2]\n",
    "        pinky = lmList[20][2] < lmList[18][2]\n",
    "        thumb = lmList[4][1] < lmList[3][1]\n",
    "        \n",
    "        if index and middle and ring and pinky and thumb:\n",
    "            return 1\n",
    "        else:\n",
    "            return 0"
   ]
  },
  {
   "cell_type": "code",
   "execution_count": 8,
   "metadata": {},
   "outputs": [],
   "source": [
    "def startIdentifyingFingers():\n",
    "    rms.start(identifyFingers)"
   ]
  },
  {
   "cell_type": "code",
   "execution_count": 9,
   "metadata": {},
   "outputs": [],
   "source": [
    "def identifyFingers(lmList, frame):\n",
    "    if indexFinger(lmList):\n",
    "        cv2.putText(frame, f'Index Finger', (0, 70), cv2.FONT_HERSHEY_PLAIN, 3, (0, 0, 0), 3)\n",
    "        return True\n",
    "    elif middleFinger(lmList):\n",
    "        cv2.putText(frame, f'Middle Finger', (0, 70), cv2.FONT_HERSHEY_PLAIN, 3, (0, 0, 0), 3)\n",
    "        return True\n",
    "    elif ringFinger(lmList):\n",
    "        cv2.putText(frame, f'Ring Finger', (0, 70), cv2.FONT_HERSHEY_PLAIN, 3, (0, 0, 0), 3)\n",
    "        return True\n",
    "    elif pinkyFinger(lmList):\n",
    "        cv2.putText(frame, f'Pinky Finger', (0, 70), cv2.FONT_HERSHEY_PLAIN, 3, (0, 0, 0), 3)\n",
    "        return True\n",
    "    elif thumbFinger(lmList):\n",
    "        cv2.putText(frame, f'Thumb Finger', (0, 70), cv2.FONT_HERSHEY_PLAIN, 3, (0, 0, 0), 3)\n",
    "        return True\n",
    "    elif allFingers(lmList):\n",
    "        cv2.putText(frame, f'All Fingers', (0, 70), cv2.FONT_HERSHEY_PLAIN, 3, (0, 0, 0), 3)\n",
    "        return True\n",
    "    return False"
   ]
  },
  {
   "cell_type": "code",
   "execution_count": 10,
   "metadata": {},
   "outputs": [],
   "source": [
    "if __name__ == \"__main__\":\n",
    "    startIdentifyingFingers()"
   ]
  }
 ],
 "metadata": {
  "kernelspec": {
   "display_name": "Python 3",
   "language": "python",
   "name": "python3"
  },
  "language_info": {
   "codemirror_mode": {
    "name": "ipython",
    "version": 3
   },
   "file_extension": ".py",
   "mimetype": "text/x-python",
   "name": "python",
   "nbconvert_exporter": "python",
   "pygments_lexer": "ipython3",
   "version": "3.8.8"
  }
 },
 "nbformat": 4,
 "nbformat_minor": 4
}
