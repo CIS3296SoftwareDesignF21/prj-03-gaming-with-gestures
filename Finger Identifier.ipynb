{
 "cells": [
  {
   "cell_type": "code",
   "execution_count": 5,
   "metadata": {},
   "outputs": [],
   "source": [
    "import cv2\n",
    "import time\n",
    "import os\n",
    "import mediapipe as mp\n",
    "import HandTrackingModule as htm"
   ]
  },
  {
   "cell_type": "code",
   "execution_count": 6,
   "metadata": {},
   "outputs": [],
   "source": [
    "def ringFinger(lmList):\n",
    "    # The points closest to the top of the window have lower values.\n",
    "    if len(lmList) != 0:\n",
    "        index = lmList[8][2] > lmList[6][2]\n",
    "        middle = lmList[12][2] > lmList[10][2]\n",
    "        ring = lmList[16][2] < lmList[14][2]\n",
    "        pinky = lmList[20][2] > lmList[18][2]\n",
    "        thumb = lmList[4][1] > lmList[3][1]\n",
    "        \n",
    "        if index and middle and ring and pinky and thumb:\n",
    "            return 1\n",
    "        else:\n",
    "            return 0"
   ]
  },
  {
   "cell_type": "code",
   "execution_count": 7,
   "metadata": {},
   "outputs": [],
   "source": [
    "wCam, hCam = 640, 480\n",
    "\n",
    "camera = cv2.VideoCapture(0)\n",
    "\n",
    "camera.set(3, wCam)\n",
    "camera.set(4, hCam)\n",
    "\n",
    "# For importing pictures\n",
    "#folderPath = \"FingerImages\"\n",
    "#myList = os.listdir(folderPath)\n",
    "\n",
    "#overlayList = []\n",
    "\n",
    "#for imPath in myList:\n",
    "    #image = cv2.imread(f'{folderPath}/{imPath}')\n",
    "    #overlayList.append(image)\n",
    "\n",
    "pTime = 0\n",
    "\n",
    "detector = htm.handDetector(detectionCon = 1)"
   ]
  },
  {
   "cell_type": "code",
   "execution_count": 8,
   "metadata": {},
   "outputs": [],
   "source": [
    "while True:\n",
    "    success, frame = camera.read()\n",
    "    \n",
    "    frame = cv2.flip(frame, 1)\n",
    "    \n",
    "    frame = detector.findHands(frame)\n",
    "    \n",
    "    lmList = detector.findPosition(frame, draw = False)\n",
    "    \n",
    "    if ringFinger(lmList):\n",
    "        cv2.putText(frame, f'Ring Finger', (0, 70), cv2.FONT_HERSHEY_PLAIN, 3, (0, 0, 0), 3)\n",
    "    \n",
    "    #Code for images\n",
    "    #h, w, c = overlayList[0].shape\n",
    "    #img[0:h, 0:w] = overlayList[0]\n",
    "    \n",
    "    \n",
    "    # Calculating the Frames per Seconds (FPS)\n",
    "    cTime = time.time()\n",
    "    fps = 1 / (cTime - pTime)\n",
    "    pTime = cTime\n",
    "    \n",
    "    # Displaying the FPS (ERROR PRINTING HIGH NUMBERS)\n",
    "    cv2.putText(frame, f'FPS: {int(fps)}', (400, 70), cv2.FONT_HERSHEY_PLAIN, 3, (0,0,0), 3)\n",
    "    \n",
    "    cv2.imshow(\"Camera\", frame)\n",
    "    \n",
    "    key = cv2.waitKey(1)\n",
    "    if key in [27, ord('Q'), ord('q')]:\n",
    "        break\n",
    "        \n",
    "camera.release()\n",
    "cv2.destroyAllWindows()"
   ]
  },
  {
   "cell_type": "code",
   "execution_count": null,
   "metadata": {},
   "outputs": [],
   "source": []
  },
  {
   "cell_type": "code",
   "execution_count": null,
   "metadata": {},
   "outputs": [],
   "source": []
  }
 ],
 "metadata": {
  "kernelspec": {
   "display_name": "Python 3",
   "language": "python",
   "name": "python3"
  },
  "language_info": {
   "codemirror_mode": {
    "name": "ipython",
    "version": 3
   },
   "file_extension": ".py",
   "mimetype": "text/x-python",
   "name": "python",
   "nbconvert_exporter": "python",
   "pygments_lexer": "ipython3",
   "version": "3.8.8"
  }
 },
 "nbformat": 4,
 "nbformat_minor": 4
}
